{
 "cells": [
  {
   "cell_type": "markdown",
   "metadata": {},
   "source": [
    "## 1. Load required libraries"
   ]
  },
  {
   "cell_type": "code",
   "execution_count": null,
   "metadata": {},
   "outputs": [],
   "source": [
    "import os\n",
    "import time\n",
    "import json\n",
    "import gzip\n",
    "import google.generativeai as genai\n",
    "\n",
    "from dotenv import load_dotenv\n",
    "from google.generativeai.types import HarmCategory, HarmBlockThreshold\n",
    "\n",
    "\n",
    "# Load environment variables from .env file\n",
    "load_dotenv()\n",
    "\n",
    "# Retrieve API key from environment variable\n",
    "GEMINI_API_KEY = os.getenv(\"GEMINI_API_KEY\")\n",
    "GEMINI_EMBEDDING_MODEL = \"gemini-1.0-pro-001\""
   ]
  },
  {
   "cell_type": "markdown",
   "metadata": {},
   "source": [
    "## 2. Define LLM functions"
   ]
  },
  {
   "cell_type": "code",
   "execution_count": null,
   "metadata": {},
   "outputs": [],
   "source": [
    "genai.configure(api_key=GEMINI_API_KEY)\n",
    "\n",
    "model = genai.GenerativeModel(GEMINI_EMBEDDING_MODEL, safety_settings={ # #gemini-1.0-pro\n",
    "    HarmCategory.HARM_CATEGORY_HATE_SPEECH: HarmBlockThreshold.BLOCK_NONE,\n",
    "    HarmCategory.HARM_CATEGORY_HARASSMENT: HarmBlockThreshold.BLOCK_NONE,\n",
    "    HarmCategory.HARM_CATEGORY_DANGEROUS_CONTENT: HarmBlockThreshold.BLOCK_NONE,\n",
    "    HarmCategory.HARM_CATEGORY_SEXUALLY_EXPLICIT: HarmBlockThreshold.BLOCK_NONE})\n",
    "\n",
    "\n",
    "def get_embeddings_from_gemini_by_chunk(abstracts: list[str], task_type: str=\"clustering\", \n",
    "                                        chunk_size: int=100, max_retries: int=3) -> list[list[float]]:\n",
    "    \n",
    "    embeddings = []\n",
    "\n",
    "    for i in range(0, len(abstracts), chunk_size):\n",
    "        chunk = abstracts[i : i + chunk_size]\n",
    "        retries = 0\n",
    "        while retries < max_retries:\n",
    "            try:\n",
    "                chunk_embeddings = genai.embed_content(\n",
    "                    model=\"models/embedding-001\",\n",
    "                    content=chunk,\n",
    "                    task_type=task_type,\n",
    "                )\n",
    "\n",
    "                embeddings.extend(chunk_embeddings[\"embedding\"])\n",
    "                break\n",
    "            except Exception as e:\n",
    "                print(f\"Exception occurred: {e}\")\n",
    "                retries += 1\n",
    "                print(f\"Retrying... ({retries}/{max_retries})\")\n",
    "                time.sleep(10)\n",
    "\n",
    "    return embeddings\n",
    "\n",
    "\n",
    "def get_most_recent_file(directory: str) -> str | None:\n",
    "    files = [os.path.join(directory, f) for f in os.listdir(directory)]\n",
    "    files = [f for f in files if os.path.isfile(f)]\n",
    "    if not files:\n",
    "        return None\n",
    "    file_ctimes = [(f, os.path.getctime(f)) for f in files]\n",
    "    most_recent_file = sorted(file_ctimes, key=lambda x: x[1], reverse=True)[0][0]\n",
    "    return most_recent_file\n",
    "\n",
    "\n",
    "def daily_processing(filename=None):\n",
    "    if filename is None:\n",
    "        filename = get_most_recent_file(\"../data\")\n",
    "    with gzip.open(filename, \"r\") as file:\n",
    "        arxiv = json.loads(file.read().decode(\"utf-8\"))\n",
    "    abstracts = [d[\"abstract\"] for d in arxiv]\n",
    "    embeddings = get_embeddings_from_gemini_by_chunk(abstracts)\n",
    "    for embedding, entry in zip(embeddings, arxiv):\n",
    "        entry[\"embedding\"] = embedding\n",
    "        entry[\"embedding_model\"] = GEMINI_EMBEDDING_MODEL\n",
    "    with gzip.open(f\"../data/{filename}\", 'w') as file:\n",
    "        file.write(json.dumps(arxiv).encode('utf-8'))\n"
   ]
  },
  {
   "cell_type": "markdown",
   "metadata": {},
   "source": [
    "## 3. Retrieve embeddings"
   ]
  },
  {
   "cell_type": "code",
   "execution_count": null,
   "metadata": {},
   "outputs": [],
   "source": [
    "if __name__ == \"__main__\":\n",
    "    daily_processing()"
   ]
  }
 ],
 "metadata": {
  "kernelspec": {
   "display_name": "novel2comic",
   "language": "python",
   "name": "python3"
  },
  "language_info": {
   "codemirror_mode": {
    "name": "ipython",
    "version": 3
   },
   "file_extension": ".py",
   "mimetype": "text/x-python",
   "name": "python",
   "nbconvert_exporter": "python",
   "pygments_lexer": "ipython3",
   "version": "3.11.8"
  }
 },
 "nbformat": 4,
 "nbformat_minor": 2
}
