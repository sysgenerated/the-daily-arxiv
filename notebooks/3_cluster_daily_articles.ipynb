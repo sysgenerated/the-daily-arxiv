{
 "cells": [
  {
   "cell_type": "markdown",
   "metadata": {},
   "source": [
    "## 1. Load required libraries"
   ]
  },
  {
   "cell_type": "code",
   "execution_count": 1,
   "metadata": {},
   "outputs": [],
   "source": [
    "import os\n",
    "import json\n",
    "import gzip\n",
    "import joblib\n",
    "import hdbscan\n",
    "import numpy as np\n",
    "import matplotlib.pyplot as plt"
   ]
  },
  {
   "cell_type": "markdown",
   "metadata": {},
   "source": [
    "## 2. Define clustering functions"
   ]
  },
  {
   "cell_type": "code",
   "execution_count": 2,
   "metadata": {},
   "outputs": [],
   "source": [
    "def get_cluster_labels(embeddings: list[float]) -> list[int]:\n",
    "    umap_reducer = joblib.load(\"../models/umap_model.pkl\")\n",
    "    hdbscan_clusterer = joblib.load(\"../models/hdbscan_model.pkl\")\n",
    "    reduced_embeddings = umap_reducer.transform(embeddings)\n",
    "    data = hdbscan.approximate_predict(hdbscan_clusterer, reduced_embeddings) \n",
    "    labels = data[0].tolist()\n",
    "    probabilities = data[0].tolist()\n",
    "    return labels, probabilities\n",
    "\n",
    "\n",
    "def plot_2d_clusters(embeddings, labels):\n",
    "    cluster_descriptions = {-1: \"Noise\",\n",
    "                            0: \"Wireless, Computing\",\n",
    "                            1: \"Logic\",\n",
    "                            2: \"Privacy, Security\",\n",
    "                            3: \"Theoretical Science\",\n",
    "                            4: \"Medical Imaging\",\n",
    "                            5: \"AI Images\", \n",
    "                            6: \"AI Vision\", \n",
    "                            7: \"Quantum Computing\", \n",
    "                            8: \"RL, Game Theory\", \n",
    "                            9: \"Planning, Control\"\n",
    "                            }\n",
    "    umap_2d_reducer = joblib.load(\"../models/umap_2d_model.pkl\")\n",
    "    reduced_embeddings = umap_2d_reducer.transform(embeddings)\n",
    "    unique_labels = np.unique(labels)\n",
    "    num_observations = len(labels)\n",
    "    num_noise = len([num for num in labels if num == -1])\n",
    "    plt.figure(figsize=(10,8))\n",
    "    for label in unique_labels:\n",
    "        cluster_indices = labels == label\n",
    "        if label == -1:\n",
    "            plt.scatter(reduced_embeddings[cluster_indices, 0], reduced_embeddings[cluster_indices, 1], label=f\"{cluster_descriptions[label]}\", color=\"lightgrey\")\n",
    "        else:\n",
    "            plt.scatter(reduced_embeddings[cluster_indices, 0], reduced_embeddings[cluster_indices, 1], label=f\"{cluster_descriptions[label]}\")\n",
    "    plt.title(label=f\"Daily Arxiv Clusters -- obs: {num_observations}; noise: {num_noise}\", fontsize=18)\n",
    "    plt.legend(loc=\"upper left\", bbox_to_anchor=(1.02, 1))\n",
    "    plt.savefig(\"../docs/daily_plot.png\", bbox_inches='tight')\n",
    "    plt.close()\n",
    "    return\n",
    "\n",
    "\n",
    "def get_most_recent_file(directory: str) -> str | None:\n",
    "    files = [os.path.join(directory, f) for f in os.listdir(directory)]\n",
    "    files = [f for f in files if os.path.isfile(f)]\n",
    "    if not files:\n",
    "        return None\n",
    "    file_ctimes = [(f, os.path.getctime(f)) for f in files]\n",
    "    most_recent_file = sorted(file_ctimes, key=lambda x: x[1], reverse=True)[0][0]\n",
    "    return most_recent_file\n",
    "\n",
    "\n",
    "def daily_processing(filename=None):\n",
    "    if filename is None:\n",
    "        filename = get_most_recent_file(\"../data\")\n",
    "    with gzip.open(filename, \"r\") as file:\n",
    "        arxiv = json.loads(file.read().decode(\"utf-8\"))\n",
    "    embeddings = [d[\"embedding\"] for d in arxiv]\n",
    "    labels, probabilities = get_cluster_labels(embeddings)\n",
    "    plot_2d_clusters(embeddings, labels)\n",
    "    return"
   ]
  },
  {
   "cell_type": "markdown",
   "metadata": {},
   "source": [
    "## 3. Daily processing"
   ]
  },
  {
   "cell_type": "code",
   "execution_count": 3,
   "metadata": {},
   "outputs": [],
   "source": [
    "if __name__ == \"__main__\":\n",
    "    daily_processing()"
   ]
  }
 ],
 "metadata": {
  "kernelspec": {
   "display_name": "novel2comic",
   "language": "python",
   "name": "python3"
  },
  "language_info": {
   "codemirror_mode": {
    "name": "ipython",
    "version": 3
   },
   "file_extension": ".py",
   "mimetype": "text/x-python",
   "name": "python",
   "nbconvert_exporter": "python",
   "pygments_lexer": "ipython3",
   "version": "3.11.8"
  }
 },
 "nbformat": 4,
 "nbformat_minor": 2
}
