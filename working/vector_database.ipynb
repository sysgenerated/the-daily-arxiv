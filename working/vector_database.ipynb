{
 "cells": [
  {
   "cell_type": "code",
   "execution_count": null,
   "metadata": {},
   "outputs": [],
   "source": [
    "from chroma import Collection\n",
    "\n",
    "# Initialize a Chroma collection\n",
    "collection = Collection(\"my_collection\")\n",
    "\n",
    "# Sample data (replace with your actual data)\n",
    "articles = [\n",
    "    {\n",
    "        \"id\": \"article1\",\n",
    "        \"abstract\": \"This is the abstract of article 1.\",\n",
    "        \"embedding\": [0.1, 0.2, 0.3]\n",
    "    },\n",
    "    {\n",
    "        \"id\": \"article2\",\n",
    "        \"abstract\": \"This is the abstract of article 2.\",\n",
    "        \"embedding\": [0.4, 0.5, 0.6]\n",
    "    },\n",
    "    # ... more articles\n",
    "]\n",
    "\n",
    "# Add data to the collection\n",
    "for article in articles:\n",
    "    # Option 1: Generate embedding automatically from abstract\n",
    "    collection.add_document(article[\"abstract\"], metadata={\"id\": article[\"id\"]})\n",
    "\n",
    "    # Option 2: Use pre-generated embedding\n",
    "    # collection.add_document(article[\"abstract\"], embedding=article[\"embedding\"], metadata={\"id\": article[\"id\"]})\n",
    "\n",
    "# Search for similar articles based on abstract and embedding\n",
    "query_abstract = \"This is a query abstract.\"\n",
    "query_embedding = [0.7, 0.8, 0.9]\n",
    "\n",
    "results = collection.query(query_embedding, query=query_abstract)\n",
    "\n",
    "# Print retrieved article IDs\n",
    "for result in results:\n",
    "    print(f\"Similar article ID: {result.metadata['id']}\")\n",
    "\n",
    "# Alternatively, search based on article ID:\n",
    "article_id = \"article2\"\n",
    "result = collection.get(article_id)\n",
    "\n",
    "if result:\n",
    "    print(f\"Retrieved article abstract: {result.text}\")\n",
    "    print(f\"Retrieved article embedding: {result.embedding}\")\n",
    "    print(f\"Retrieved article ID: {result.metadata['id']}\")\n"
   ]
  },
  {
   "cell_type": "markdown",
   "metadata": {},
   "source": [
    "## Persist to json"
   ]
  },
  {
   "cell_type": "code",
   "execution_count": null,
   "metadata": {},
   "outputs": [],
   "source": [
    "# Export the collection\n",
    "collection.export_to_json(\"my_collection.json\")\n",
    "\n",
    "# To load from the exported file:\n",
    "new_collection = Collection.from_json(\"my_collection.json\")\n"
   ]
  },
  {
   "cell_type": "markdown",
   "metadata": {},
   "source": [
    "## Persist to LMDB"
   ]
  },
  {
   "cell_type": "code",
   "execution_count": null,
   "metadata": {},
   "outputs": [],
   "source": [
    "# Export the collection to LMDB\n",
    "collection.export_to_lmdb(\"my_collection.lmdb\")\n",
    "\n",
    "# To load from the LMDB file:\n",
    "new_collection = Collection.from_lmdb(\"my_collection.lmdb\")\n"
   ]
  }
 ],
 "metadata": {
  "language_info": {
   "name": "python"
  }
 },
 "nbformat": 4,
 "nbformat_minor": 2
}
